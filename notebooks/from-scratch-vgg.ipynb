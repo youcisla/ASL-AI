{
 "cells": [
  {
   "cell_type": "markdown",
   "id": "8e8d1b9f",
   "metadata": {
    "id": "BV1vYiUawdXU",
    "papermill": {
     "duration": 0.009899,
     "end_time": "2025-05-09T21:12:07.525520",
     "exception": false,
     "start_time": "2025-05-09T21:12:07.515621",
     "status": "completed"
    },
    "tags": []
   },
   "source": [
    "# import libraries"
   ]
  },
  {
   "cell_type": "code",
   "execution_count": null,
   "id": "00772b18",
   "metadata": {
    "execution": {
     "iopub.execute_input": "2025-09-05T07:09:04.316219Z",
     "iopub.status.busy": "2025-09-05T07:09:04.315656Z",
     "iopub.status.idle": "2025-09-05T07:09:04.320479Z",
     "shell.execute_reply": "2025-09-05T07:09:04.319721Z",
     "shell.execute_reply.started": "2025-09-05T07:09:04.316196Z"
    },
    "executionInfo": {
     "elapsed": 36,
     "status": "ok",
     "timestamp": 1746750857311,
     "user": {
      "displayName": "Mohamed Gaber",
      "userId": "13237345057819425353"
     },
     "user_tz": -180
    },
    "id": "eAMAU6cctCWf",
    "papermill": {
     "duration": 17.838657,
     "end_time": "2025-05-09T21:12:25.373604",
     "exception": false,
     "start_time": "2025-05-09T21:12:07.534947",
     "status": "completed"
    },
    "tags": [],
    "trusted": true
   },
   "outputs": [],
   "source": [
    "import numpy as np\n",
    "import pandas as pd\n",
    "import matplotlib.pyplot as plt\n",
    "import seaborn as sns\n",
    "from sklearn.model_selection import train_test_split\n",
    "from sklearn.utils import shuffle\n",
    "import keras , os , tqdm , cv2\n",
    "from keras.models import Sequential\n",
    "from keras.layers import Dense , Conv2D , MaxPooling2D , BatchNormalization , Dropout , Flatten\n",
    "from keras.utils import to_categorical\n",
    "from tensorflow.keras.applications import VGG16\n",
    "from tensorflow.keras.preprocessing.image import ImageDataGenerator\n",
    "from tensorflow.keras.preprocessing import image\n",
    "from tensorflow.keras.models import load_model"
   ]
  },
  {
   "cell_type": "markdown",
   "id": "695470be",
   "metadata": {
    "id": "dzNgvnyYwyT-",
    "papermill": {
     "duration": 0.004716,
     "end_time": "2025-05-09T21:12:25.383603",
     "exception": false,
     "start_time": "2025-05-09T21:12:25.378887",
     "status": "completed"
    },
    "tags": []
   },
   "source": [
    "# Load Data"
   ]
  },
  {
   "cell_type": "code",
   "execution_count": null,
   "id": "2247756f",
   "metadata": {
    "execution": {
     "iopub.execute_input": "2025-09-05T07:09:04.322017Z",
     "iopub.status.busy": "2025-09-05T07:09:04.321807Z",
     "iopub.status.idle": "2025-09-05T07:09:04.338078Z",
     "shell.execute_reply": "2025-09-05T07:09:04.337454Z",
     "shell.execute_reply.started": "2025-09-05T07:09:04.322003Z"
    },
    "executionInfo": {
     "elapsed": 2,
     "status": "ok",
     "timestamp": 1746750857317,
     "user": {
      "displayName": "Mohamed Gaber",
      "userId": "13237345057819425353"
     },
     "user_tz": -180
    },
    "id": "H_aSULRWw1Iz",
    "papermill": {
     "duration": 0.009937,
     "end_time": "2025-05-09T21:12:25.398210",
     "exception": false,
     "start_time": "2025-05-09T21:12:25.388273",
     "status": "completed"
    },
    "tags": [],
    "trusted": true
   },
   "outputs": [],
   "source": [
    "trainDir = '/kaggle/input/asl-alphabet/asl_alphabet_train/asl_alphabet_train'\n",
    "testDir = '/kaggle/input/asl-alphabet/asl_alphabet_test/asl_alphabet_test'"
   ]
  },
  {
   "cell_type": "code",
   "execution_count": null,
   "id": "9fb7b358",
   "metadata": {
    "execution": {
     "iopub.execute_input": "2025-09-05T07:09:04.339000Z",
     "iopub.status.busy": "2025-09-05T07:09:04.338754Z",
     "iopub.status.idle": "2025-09-05T07:09:04.353367Z",
     "shell.execute_reply": "2025-09-05T07:09:04.352649Z",
     "shell.execute_reply.started": "2025-09-05T07:09:04.338986Z"
    },
    "executionInfo": {
     "elapsed": 1,
     "status": "ok",
     "timestamp": 1746750857319,
     "user": {
      "displayName": "Mohamed Gaber",
      "userId": "13237345057819425353"
     },
     "user_tz": -180
    },
    "id": "NnG5dUIxxEmR",
    "papermill": {
     "duration": 0.011519,
     "end_time": "2025-05-09T21:12:25.414504",
     "exception": false,
     "start_time": "2025-05-09T21:12:25.402985",
     "status": "completed"
    },
    "tags": [],
    "trusted": true
   },
   "outputs": [],
   "source": [
    "def loadTrsinData (trainDir , imageWidth , imageHight) :\n",
    "  classes = os.listdir(trainDir)\n",
    "  imagesList = []\n",
    "  labels = []\n",
    "  for clas in tqdm.tqdm(classes) :\n",
    "    classesPath = os.path.join(trainDir,clas)\n",
    "    for image in os.listdir(classesPath) :\n",
    "      imgPath = os.path.join(trainDir,clas,image)\n",
    "      img = cv2.imread(imgPath)\n",
    "      img = cv2.cvtColor(img , cv2.COLOR_BGR2GRAY)\n",
    "      img = cv2.resize(img , (imageWidth , imageHight))\n",
    "      imagesList.append(img)\n",
    "      labels.append(clas)\n",
    "\n",
    "  return imagesList , labels"
   ]
  },
  {
   "cell_type": "markdown",
   "id": "92ac6044",
   "metadata": {
    "id": "pNJ6UPfWwivh",
    "papermill": {
     "duration": 0.004622,
     "end_time": "2025-05-09T21:12:25.423956",
     "exception": false,
     "start_time": "2025-05-09T21:12:25.419334",
     "status": "completed"
    },
    "tags": []
   },
   "source": [
    "# Explore Data"
   ]
  },
  {
   "cell_type": "code",
   "execution_count": null,
   "id": "912572bd",
   "metadata": {
    "execution": {
     "iopub.execute_input": "2025-09-05T07:09:04.354950Z",
     "iopub.status.busy": "2025-09-05T07:09:04.354789Z",
     "iopub.status.idle": "2025-09-05T07:09:04.367224Z",
     "shell.execute_reply": "2025-09-05T07:09:04.366641Z",
     "shell.execute_reply.started": "2025-09-05T07:09:04.354938Z"
    },
    "executionInfo": {
     "elapsed": 69,
     "status": "ok",
     "timestamp": 1746750857389,
     "user": {
      "displayName": "Mohamed Gaber",
      "userId": "13237345057819425353"
     },
     "user_tz": -180
    },
    "id": "-IVyc-cmwAZA",
    "papermill": {
     "duration": 0.010834,
     "end_time": "2025-05-09T21:12:25.439338",
     "exception": false,
     "start_time": "2025-05-09T21:12:25.428504",
     "status": "completed"
    },
    "tags": [],
    "trusted": true
   },
   "outputs": [],
   "source": [
    "def displaySampleOfData (trainDir , imageWidth , imageHight) :\n",
    "  plt.figure(figsize=(10,15))\n",
    "  classes = os.listdir(trainDir)\n",
    "  for i,clas in tqdm.tqdm(enumerate(classes)):\n",
    "    plt.subplot(6,5,i+1)\n",
    "    classesPath = os.path.join(trainDir,clas)\n",
    "    image = os.listdir(classesPath)[0]\n",
    "    image = os.path.join(trainDir,clas,image)\n",
    "    img = cv2.imread(image)\n",
    "    img = cv2.cvtColor(img , cv2.COLOR_BGR2GRAY)\n",
    "    img = cv2.resize(img , (imageWidth , imageHight))\n",
    "    plt.title(clas)\n",
    "    plt.imshow(img , cmap='gray')\n",
    "  plt.show()\n"
   ]
  },
  {
   "cell_type": "code",
   "execution_count": null,
   "id": "b189ab23",
   "metadata": {
    "execution": {
     "iopub.execute_input": "2025-09-05T07:09:04.368008Z",
     "iopub.status.busy": "2025-09-05T07:09:04.367820Z",
     "iopub.status.idle": "2025-09-05T07:09:08.562911Z",
     "shell.execute_reply": "2025-09-05T07:09:08.562137Z",
     "shell.execute_reply.started": "2025-09-05T07:09:04.367993Z"
    },
    "executionInfo": {
     "elapsed": 2394,
     "status": "ok",
     "timestamp": 1746750859773,
     "user": {
      "displayName": "Mohamed Gaber",
      "userId": "13237345057819425353"
     },
     "user_tz": -180
    },
    "id": "6hSKY6Ar4PZx",
    "outputId": "71cd538e-8c74-4a96-ac0d-d9e2599bcfc7",
    "papermill": {
     "duration": 4.042492,
     "end_time": "2025-05-09T21:12:29.486501",
     "exception": false,
     "start_time": "2025-05-09T21:12:25.444009",
     "status": "completed"
    },
    "tags": [],
    "trusted": true
   },
   "outputs": [],
   "source": [
    "displaySampleOfData(trainDir ,60 ,60 )"
   ]
  },
  {
   "cell_type": "code",
   "execution_count": null,
   "id": "17fc10ec",
   "metadata": {
    "execution": {
     "iopub.execute_input": "2025-09-05T07:09:08.563906Z",
     "iopub.status.busy": "2025-09-05T07:09:08.563655Z"
    },
    "executionInfo": {
     "elapsed": 49183,
     "status": "ok",
     "timestamp": 1746750908938,
     "user": {
      "displayName": "Mohamed Gaber",
      "userId": "13237345057819425353"
     },
     "user_tz": -180
    },
    "id": "DhvVVArG4ZS0",
    "outputId": "6b165adf-90af-4da3-f682-c446f64ee14f",
    "papermill": {
     "duration": 642.126535,
     "end_time": "2025-05-09T21:23:11.623860",
     "exception": false,
     "start_time": "2025-05-09T21:12:29.497325",
     "status": "completed"
    },
    "tags": [],
    "trusted": true
   },
   "outputs": [],
   "source": [
    "# load data after explore the images and study it's case\n",
    "X , y = loadTrsinData(trainDir , 60 , 60)"
   ]
  },
  {
   "cell_type": "code",
   "execution_count": null,
   "id": "637b8c14",
   "metadata": {
    "executionInfo": {
     "elapsed": 15,
     "status": "ok",
     "timestamp": 1746750908951,
     "user": {
      "displayName": "Mohamed Gaber",
      "userId": "13237345057819425353"
     },
     "user_tz": -180
    },
    "id": "FXumsa8eOWJW",
    "outputId": "59c9e958-1b2b-431b-855b-8739fabed6cf",
    "papermill": {
     "duration": 0.1639,
     "end_time": "2025-05-09T21:23:11.801174",
     "exception": false,
     "start_time": "2025-05-09T21:23:11.637274",
     "status": "completed"
    },
    "tags": [],
    "trusted": true
   },
   "outputs": [],
   "source": [
    "testImages = []\n",
    "testLabels = []\n",
    "for img in tqdm.tqdm(os.listdir(testDir)):\n",
    "  trainImagePath = os.path.join(testDir , img)\n",
    "  image = cv2.imread(trainImagePath)\n",
    "  image = cv2.cvtColor(image , cv2.COLOR_BGR2GRAY)\n",
    "  image = cv2.resize(image,(60,60))\n",
    "  testImages.append(image)\n",
    "  testLabels.append(img)"
   ]
  },
  {
   "cell_type": "markdown",
   "id": "28b28eae",
   "metadata": {
    "id": "dExv6W6KBIfq",
    "papermill": {
     "duration": 0.01244,
     "end_time": "2025-05-09T21:23:11.826356",
     "exception": false,
     "start_time": "2025-05-09T21:23:11.813916",
     "status": "completed"
    },
    "tags": []
   },
   "source": [
    "# Data preprocessing"
   ]
  },
  {
   "cell_type": "markdown",
   "id": "1fe34f31",
   "metadata": {
    "id": "sBsSyM4VQXPZ",
    "papermill": {
     "duration": 0.012421,
     "end_time": "2025-05-09T21:23:11.851135",
     "exception": false,
     "start_time": "2025-05-09T21:23:11.838714",
     "status": "completed"
    },
    "tags": []
   },
   "source": [
    "## train"
   ]
  },
  {
   "cell_type": "code",
   "execution_count": null,
   "id": "80596235",
   "metadata": {
    "executionInfo": {
     "elapsed": 1,
     "status": "ok",
     "timestamp": 1746750908953,
     "user": {
      "displayName": "Mohamed Gaber",
      "userId": "13237345057819425353"
     },
     "user_tz": -180
    },
    "id": "L5V17Yat7kVc",
    "papermill": {
     "duration": 0.045183,
     "end_time": "2025-05-09T21:23:11.908813",
     "exception": false,
     "start_time": "2025-05-09T21:23:11.863630",
     "status": "completed"
    },
    "tags": [],
    "trusted": true
   },
   "outputs": [],
   "source": [
    "# shuffles x and y to make better training\n",
    "XShuffled , yShuffled = shuffle(X,y,random_state=42)"
   ]
  },
  {
   "cell_type": "code",
   "execution_count": null,
   "id": "526dc7c2",
   "metadata": {
    "executionInfo": {
     "elapsed": 215,
     "status": "ok",
     "timestamp": 1746750909169,
     "user": {
      "displayName": "Mohamed Gaber",
      "userId": "13237345057819425353"
     },
     "user_tz": -180
    },
    "id": "i615RnJq9slW",
    "papermill": {
     "duration": 0.208692,
     "end_time": "2025-05-09T21:23:12.131898",
     "exception": false,
     "start_time": "2025-05-09T21:23:11.923206",
     "status": "completed"
    },
    "tags": [],
    "trusted": true
   },
   "outputs": [],
   "source": [
    "# convert list to np array\n",
    "xtrain = np.array(XShuffled)\n",
    "ytrain = np.array(yShuffled)"
   ]
  },
  {
   "cell_type": "code",
   "execution_count": null,
   "id": "29b8045e",
   "metadata": {
    "executionInfo": {
     "elapsed": 22,
     "status": "ok",
     "timestamp": 1746750909197,
     "user": {
      "displayName": "Mohamed Gaber",
      "userId": "13237345057819425353"
     },
     "user_tz": -180
    },
    "id": "eFIeP5AOBoV-",
    "outputId": "b2e12449-28ad-4cd3-eecd-63088b26f107",
    "papermill": {
     "duration": 0.018917,
     "end_time": "2025-05-09T21:23:12.164373",
     "exception": false,
     "start_time": "2025-05-09T21:23:12.145456",
     "status": "completed"
    },
    "tags": [],
    "trusted": true
   },
   "outputs": [],
   "source": [
    "# shape of xtrain\n",
    "xtrain.shape"
   ]
  },
  {
   "cell_type": "code",
   "execution_count": null,
   "id": "1bac3db8",
   "metadata": {
    "executionInfo": {
     "elapsed": 3083,
     "status": "ok",
     "timestamp": 1746750912280,
     "user": {
      "displayName": "Mohamed Gaber",
      "userId": "13237345057819425353"
     },
     "user_tz": -180
    },
    "id": "-wT8_KGj_OuI",
    "papermill": {
     "duration": 0.628757,
     "end_time": "2025-05-09T21:23:12.806083",
     "exception": false,
     "start_time": "2025-05-09T21:23:12.177326",
     "status": "completed"
    },
    "tags": [],
    "trusted": true
   },
   "outputs": [],
   "source": [
    "# Scale the train data\n",
    "xtrain = xtrain.astype('float32') / 255.0"
   ]
  },
  {
   "cell_type": "code",
   "execution_count": null,
   "id": "ad8a9dd0",
   "metadata": {
    "executionInfo": {
     "elapsed": 4,
     "status": "ok",
     "timestamp": 1746750912287,
     "user": {
      "displayName": "Mohamed Gaber",
      "userId": "13237345057819425353"
     },
     "user_tz": -180
    },
    "id": "7Sr70eKXFaun",
    "papermill": {
     "duration": 0.017539,
     "end_time": "2025-05-09T21:23:12.837168",
     "exception": false,
     "start_time": "2025-05-09T21:23:12.819629",
     "status": "completed"
    },
    "tags": [],
    "trusted": true
   },
   "outputs": [],
   "source": [
    "# Reshape xtrain to fit conv network\n",
    "xtrainReshaped = xtrain.reshape( (87000, 60, 60 , 1) )"
   ]
  },
  {
   "cell_type": "code",
   "execution_count": null,
   "id": "885093a6",
   "metadata": {
    "executionInfo": {
     "elapsed": 13,
     "status": "ok",
     "timestamp": 1746750912301,
     "user": {
      "displayName": "Mohamed Gaber",
      "userId": "13237345057819425353"
     },
     "user_tz": -180
    },
    "id": "jCEkjwhJF52W",
    "outputId": "ad8aef7c-3f03-483d-c47c-cca06c80cecf",
    "papermill": {
     "duration": 0.018661,
     "end_time": "2025-05-09T21:23:12.868826",
     "exception": false,
     "start_time": "2025-05-09T21:23:12.850165",
     "status": "completed"
    },
    "tags": [],
    "trusted": true
   },
   "outputs": [],
   "source": [
    "xtrainReshaped.shape"
   ]
  },
  {
   "cell_type": "code",
   "execution_count": null,
   "id": "16ef5121",
   "metadata": {
    "executionInfo": {
     "elapsed": 1,
     "status": "ok",
     "timestamp": 1746750912303,
     "user": {
      "displayName": "Mohamed Gaber",
      "userId": "13237345057819425353"
     },
     "user_tz": -180
    },
    "id": "y2s_GacMGsFF",
    "papermill": {
     "duration": 0.018136,
     "end_time": "2025-05-09T21:23:12.900139",
     "exception": false,
     "start_time": "2025-05-09T21:23:12.882003",
     "status": "completed"
    },
    "tags": [],
    "trusted": true
   },
   "outputs": [],
   "source": [
    "# Create list of classes and dic to convert y labels to numbers\n",
    "cats = [i for i in os.listdir(trainDir)]\n",
    "categories = {}\n",
    "for i,c in enumerate(cats) :\n",
    "  categories[c] = i"
   ]
  },
  {
   "cell_type": "code",
   "execution_count": null,
   "id": "3746acea",
   "metadata": {
    "executionInfo": {
     "elapsed": 54,
     "status": "ok",
     "timestamp": 1746750912358,
     "user": {
      "displayName": "Mohamed Gaber",
      "userId": "13237345057819425353"
     },
     "user_tz": -180
    },
    "id": "01c-DyzQHXlR",
    "outputId": "90c55b66-c7db-462d-fbbc-9e0407ba0fcc",
    "papermill": {
     "duration": 0.068131,
     "end_time": "2025-05-09T21:23:12.981224",
     "exception": false,
     "start_time": "2025-05-09T21:23:12.913093",
     "status": "completed"
    },
    "tags": [],
    "trusted": true
   },
   "outputs": [],
   "source": [
    "# convert labels in ytrain to numbers\n",
    "for i in range (len(ytrain)) :\n",
    "  ytrain[i] = categories[ytrain[i]]\n",
    "\n",
    "ytrain"
   ]
  },
  {
   "cell_type": "code",
   "execution_count": null,
   "id": "c302fbc3",
   "metadata": {
    "executionInfo": {
     "elapsed": 2,
     "status": "ok",
     "timestamp": 1746750912362,
     "user": {
      "displayName": "Mohamed Gaber",
      "userId": "13237345057819425353"
     },
     "user_tz": -180
    },
    "id": "fU1SFMb-IEkF",
    "papermill": {
     "duration": 0.056597,
     "end_time": "2025-05-09T21:23:13.050830",
     "exception": false,
     "start_time": "2025-05-09T21:23:12.994233",
     "status": "completed"
    },
    "tags": [],
    "trusted": true
   },
   "outputs": [],
   "source": [
    "# Convert ytrain from numpy array to categoricl formate to fit in the training\n",
    "ytrain = to_categorical(ytrain)"
   ]
  },
  {
   "cell_type": "markdown",
   "id": "fee59723",
   "metadata": {
    "id": "sW6V99CwQb1Y",
    "papermill": {
     "duration": 0.013031,
     "end_time": "2025-05-09T21:23:13.076935",
     "exception": false,
     "start_time": "2025-05-09T21:23:13.063904",
     "status": "completed"
    },
    "tags": []
   },
   "source": [
    "## test"
   ]
  },
  {
   "cell_type": "code",
   "execution_count": null,
   "id": "055e1f2c",
   "metadata": {
    "executionInfo": {
     "elapsed": 7,
     "status": "ok",
     "timestamp": 1746750912371,
     "user": {
      "displayName": "Mohamed Gaber",
      "userId": "13237345057819425353"
     },
     "user_tz": -180
    },
    "id": "t4zyx09wQd8a",
    "papermill": {
     "duration": 0.017979,
     "end_time": "2025-05-09T21:23:13.107772",
     "exception": false,
     "start_time": "2025-05-09T21:23:13.089793",
     "status": "completed"
    },
    "tags": [],
    "trusted": true
   },
   "outputs": [],
   "source": [
    "testImages = np.array(testImages)\n",
    "testLabels = np.array(testLabels)"
   ]
  },
  {
   "cell_type": "code",
   "execution_count": null,
   "id": "2dbea1e2",
   "metadata": {
    "executionInfo": {
     "elapsed": 1,
     "status": "ok",
     "timestamp": 1746750912373,
     "user": {
      "displayName": "Mohamed Gaber",
      "userId": "13237345057819425353"
     },
     "user_tz": -180
    },
    "id": "XHdnRH_GQ2FT",
    "papermill": {
     "duration": 0.018079,
     "end_time": "2025-05-09T21:23:13.138911",
     "exception": false,
     "start_time": "2025-05-09T21:23:13.120832",
     "status": "completed"
    },
    "tags": [],
    "trusted": true
   },
   "outputs": [],
   "source": [
    "testImages = testImages.astype('float32') / 255.0"
   ]
  },
  {
   "cell_type": "code",
   "execution_count": null,
   "id": "1f089f2f",
   "metadata": {
    "executionInfo": {
     "elapsed": 23,
     "status": "ok",
     "timestamp": 1746750912398,
     "user": {
      "displayName": "Mohamed Gaber",
      "userId": "13237345057819425353"
     },
     "user_tz": -180
    },
    "id": "K42y7bNkRDJj",
    "papermill": {
     "duration": 0.017715,
     "end_time": "2025-05-09T21:23:13.169505",
     "exception": false,
     "start_time": "2025-05-09T21:23:13.151790",
     "status": "completed"
    },
    "tags": [],
    "trusted": true
   },
   "outputs": [],
   "source": [
    "testImages = testImages.reshape( (-1, 60, 60 , 1) )"
   ]
  },
  {
   "cell_type": "code",
   "execution_count": null,
   "id": "2cd65262",
   "metadata": {
    "executionInfo": {
     "elapsed": 67,
     "status": "ok",
     "timestamp": 1746750912443,
     "user": {
      "displayName": "Mohamed Gaber",
      "userId": "13237345057819425353"
     },
     "user_tz": -180
    },
    "id": "t7bKXAOURL2C",
    "outputId": "68704998-4b1d-4dc5-cb41-12411ed4676f",
    "papermill": {
     "duration": 0.019252,
     "end_time": "2025-05-09T21:23:13.201911",
     "exception": false,
     "start_time": "2025-05-09T21:23:13.182659",
     "status": "completed"
    },
    "tags": [],
    "trusted": true
   },
   "outputs": [],
   "source": [
    "for i in range(len(testLabels)) :\n",
    "  testLabels[i] = testLabels[i].split('_')[0]\n",
    "\n",
    "testLabels"
   ]
  },
  {
   "cell_type": "code",
   "execution_count": null,
   "id": "0692ec93",
   "metadata": {
    "executionInfo": {
     "elapsed": 3,
     "status": "ok",
     "timestamp": 1746750912450,
     "user": {
      "displayName": "Mohamed Gaber",
      "userId": "13237345057819425353"
     },
     "user_tz": -180
    },
    "id": "BgUz-jhrS4Zd",
    "papermill": {
     "duration": 0.017877,
     "end_time": "2025-05-09T21:23:13.233018",
     "exception": false,
     "start_time": "2025-05-09T21:23:13.215141",
     "status": "completed"
    },
    "tags": [],
    "trusted": true
   },
   "outputs": [],
   "source": [
    "testDic = {}\n",
    "for i,c in enumerate(testLabels):\n",
    "  testDic[c]=i"
   ]
  },
  {
   "cell_type": "code",
   "execution_count": null,
   "id": "28c883ea",
   "metadata": {
    "executionInfo": {
     "elapsed": 1,
     "status": "ok",
     "timestamp": 1746750912452,
     "user": {
      "displayName": "Mohamed Gaber",
      "userId": "13237345057819425353"
     },
     "user_tz": -180
    },
    "id": "S-y3K1pDTbDL",
    "papermill": {
     "duration": 0.017289,
     "end_time": "2025-05-09T21:23:13.263707",
     "exception": false,
     "start_time": "2025-05-09T21:23:13.246418",
     "status": "completed"
    },
    "tags": [],
    "trusted": true
   },
   "outputs": [],
   "source": [
    "for i in range( len(testLabels) ):\n",
    "  testLabels[i] = testDic[testLabels[i]]"
   ]
  },
  {
   "cell_type": "code",
   "execution_count": null,
   "id": "c20089f8",
   "metadata": {
    "executionInfo": {
     "elapsed": 17,
     "status": "ok",
     "timestamp": 1746750912470,
     "user": {
      "displayName": "Mohamed Gaber",
      "userId": "13237345057819425353"
     },
     "user_tz": -180
    },
    "id": "w7aFn7_QT6IJ",
    "outputId": "60e31393-6b37-4812-be3f-423b12ca8e72",
    "papermill": {
     "duration": 0.018725,
     "end_time": "2025-05-09T21:23:13.295655",
     "exception": false,
     "start_time": "2025-05-09T21:23:13.276930",
     "status": "completed"
    },
    "tags": [],
    "trusted": true
   },
   "outputs": [],
   "source": [
    "testLabels"
   ]
  },
  {
   "cell_type": "code",
   "execution_count": null,
   "id": "eb05e1ca",
   "metadata": {
    "executionInfo": {
     "elapsed": 9,
     "status": "ok",
     "timestamp": 1746750912480,
     "user": {
      "displayName": "Mohamed Gaber",
      "userId": "13237345057819425353"
     },
     "user_tz": -180
    },
    "id": "1zC6IonqXa9o",
    "outputId": "f06a8fbd-9a4a-4e9c-9627-99224a2507d2",
    "papermill": {
     "duration": 0.017879,
     "end_time": "2025-05-09T21:23:13.326770",
     "exception": false,
     "start_time": "2025-05-09T21:23:13.308891",
     "status": "completed"
    },
    "tags": [],
    "trusted": true
   },
   "outputs": [],
   "source": [
    "testLabels = to_categorical(testLabels , num_classes=29)"
   ]
  },
  {
   "cell_type": "code",
   "execution_count": null,
   "id": "5ec12e7d",
   "metadata": {
    "executionInfo": {
     "elapsed": 1,
     "status": "ok",
     "timestamp": 1746750912482,
     "user": {
      "displayName": "Mohamed Gaber",
      "userId": "13237345057819425353"
     },
     "user_tz": -180
    },
    "id": "NfGhzmJdZvki",
    "papermill": {
     "duration": 0.017975,
     "end_time": "2025-05-09T21:23:13.357906",
     "exception": false,
     "start_time": "2025-05-09T21:23:13.339931",
     "status": "completed"
    },
    "tags": [],
    "trusted": true
   },
   "outputs": [],
   "source": [
    "testImages = np.array(testImages, dtype=np.float32)\n",
    "testLabels = np.array(testLabels, dtype=np.int32)"
   ]
  },
  {
   "cell_type": "markdown",
   "id": "ed84a7c6",
   "metadata": {
    "id": "k7jzfTWxGG5z",
    "papermill": {
     "duration": 0.013215,
     "end_time": "2025-05-09T21:23:13.385100",
     "exception": false,
     "start_time": "2025-05-09T21:23:13.371885",
     "status": "completed"
    },
    "tags": []
   },
   "source": [
    "# Data Modeling"
   ]
  },
  {
   "cell_type": "code",
   "execution_count": null,
   "id": "9a828303",
   "metadata": {
    "executionInfo": {
     "elapsed": 22,
     "status": "ok",
     "timestamp": 1746750912505,
     "user": {
      "displayName": "Mohamed Gaber",
      "userId": "13237345057819425353"
     },
     "user_tz": -180
    },
    "id": "V1bhgEh5GIa6",
    "papermill": {
     "duration": 3.329695,
     "end_time": "2025-05-09T21:23:16.728027",
     "exception": false,
     "start_time": "2025-05-09T21:23:13.398332",
     "status": "completed"
    },
    "tags": [],
    "trusted": true
   },
   "outputs": [],
   "source": [
    "Model = Sequential ([\n",
    "    Conv2D(128 , (3,3) , activation='relu' , input_shape =(60,60,1)),\n",
    "    BatchNormalization(),\n",
    "    MaxPooling2D((2,2)),\n",
    "    Conv2D(64 , (3,3) , activation='relu' ),\n",
    "    BatchNormalization(),\n",
    "    MaxPooling2D((2,2)),\n",
    "    Conv2D(32 , (3,3) , activation='relu' ),\n",
    "    BatchNormalization(),\n",
    "    MaxPooling2D((2,2)),\n",
    "    Flatten(),\n",
    "    Dense(256 , activation='relu'),\n",
    "    Dropout(0.2),\n",
    "    Dense(128 , activation='relu'),\n",
    "    Dropout(0.15),\n",
    "    Dense(64 , activation='relu'),\n",
    "    Dense(len(cats) , activation='softmax'),\n",
    "])\n",
    "Model.summary()"
   ]
  },
  {
   "cell_type": "code",
   "execution_count": null,
   "id": "fe0df899",
   "metadata": {
    "executionInfo": {
     "elapsed": 44,
     "status": "ok",
     "timestamp": 1746750912551,
     "user": {
      "displayName": "Mohamed Gaber",
      "userId": "13237345057819425353"
     },
     "user_tz": -180
    },
    "id": "1vMlvwVSJXWm",
    "papermill": {
     "duration": 0.026083,
     "end_time": "2025-05-09T21:23:16.769106",
     "exception": false,
     "start_time": "2025-05-09T21:23:16.743023",
     "status": "completed"
    },
    "tags": [],
    "trusted": true
   },
   "outputs": [],
   "source": [
    "Model.compile(optimizer='adam' , loss = 'categorical_crossentropy' , metrics=['accuracy'])"
   ]
  },
  {
   "cell_type": "code",
   "execution_count": null,
   "id": "c962167c",
   "metadata": {},
   "outputs": [],
   "source": [
    "# Add callbacks for better training\n",
    "from tensorflow.keras.callbacks import EarlyStopping, ModelCheckpoint\n",
    "callbacks = [\n",
    "    EarlyStopping(patience=3, restore_best_weights=True),\n",
    "    ModelCheckpoint(\"best_custom_cnn.keras\", save_best_only=True)\n",
    "]"
   ]
  },
  {
   "cell_type": "code",
   "execution_count": null,
   "id": "4b628d22",
   "metadata": {
    "executionInfo": {
     "elapsed": 311624,
     "status": "ok",
     "timestamp": 1746751224174,
     "user": {
      "displayName": "Mohamed Gaber",
      "userId": "13237345057819425353"
     },
     "user_tz": -180
    },
    "id": "Sp98ujSBKMiu",
    "outputId": "8d8f5917-dc25-4c48-f630-583df99b3bd8",
    "papermill": {
     "duration": 192.682222,
     "end_time": "2025-05-09T21:26:29.464881",
     "exception": false,
     "start_time": "2025-05-09T21:23:16.782659",
     "status": "completed"
    },
    "tags": [],
    "trusted": true
   },
   "outputs": [],
   "source": [
    "Model.fit(xtrainReshaped , ytrain  , validation_split=0.2 , epochs = 10, callbacks=callbacks)"
   ]
  },
  {
   "cell_type": "code",
   "execution_count": null,
   "id": "cf8be2f3",
   "metadata": {
    "executionInfo": {
     "elapsed": 181,
     "status": "ok",
     "timestamp": 1746751224363,
     "user": {
      "displayName": "Mohamed Gaber",
      "userId": "13237345057819425353"
     },
     "user_tz": -180
    },
    "id": "96kIGQJLLjLY",
    "outputId": "20e9b1ba-08e0-45cc-8cba-5dec2b1eda58",
    "papermill": {
     "duration": 0.366693,
     "end_time": "2025-05-09T21:26:29.994136",
     "exception": false,
     "start_time": "2025-05-09T21:26:29.627443",
     "status": "completed"
    },
    "tags": [],
    "trusted": true
   },
   "outputs": [],
   "source": [
    "plt.plot(Model.history.history['accuracy'], label='Train Accuracy')\n",
    "plt.plot(Model.history.history['val_accuracy'], label='Validation Accuracy')\n",
    "plt.title('Model Accuracy')\n",
    "plt.xlabel('Epoch')\n",
    "plt.ylabel('Accuracy')\n",
    "plt.legend()\n",
    "plt.grid(True)\n",
    "plt.show()"
   ]
  },
  {
   "cell_type": "code",
   "execution_count": null,
   "id": "c3ed268b",
   "metadata": {},
   "outputs": [],
   "source": [
    "# Save the custom CNN model\n",
    "Model.save('custom_cnn_asl_model.keras')\n",
    "print(\"Custom CNN model saved as 'custom_cnn_asl_model.keras'\")\n",
    "\n",
    "# Also save in .h5 format for compatibility\n",
    "Model.save('custom_cnn_asl_model.h5')\n",
    "print(\"Custom CNN model also saved as 'custom_cnn_asl_model.h5'\")\n",
    "\n",
    "# Save the label mapping for the custom model\n",
    "import json\n",
    "label_mapping = {v: k for k, v in categories.items()}  # reverse mapping (index -> class name)\n",
    "with open('custom_cnn_labels.json', 'w') as f:\n",
    "    json.dump(label_mapping, f)\n",
    "print(\"Label mapping saved as 'custom_cnn_labels.json'\")"
   ]
  },
  {
   "cell_type": "markdown",
   "id": "5f515f65-3e48-45ff-a083-5b85422abe03",
   "metadata": {},
   "source": [
    "VGG-16"
   ]
  },
  {
   "cell_type": "code",
   "execution_count": null,
   "id": "8f95149d-6c41-429c-91e4-84824fd87010",
   "metadata": {
    "trusted": true
   },
   "outputs": [],
   "source": [
    "import os\n",
    "import numpy as np\n",
    "import tensorflow as tf\n",
    "from tensorflow.keras.applications.vgg16 import VGG16, preprocess_input\n",
    "from tensorflow.keras.preprocessing.image import ImageDataGenerator\n",
    "from tensorflow.keras.models import Sequential\n",
    "from tensorflow.keras.layers import GlobalAveragePooling2D, Dense, Dropout\n",
    "from tensorflow.keras.optimizers import Adam\n",
    "from tensorflow.keras.callbacks import EarlyStopping, ReduceLROnPlateau, ModelCheckpoint\n",
    "\n",
    "print(\"TF version:\", tf.__version__)\n",
    "print(\"GPUs:\", tf.config.list_physical_devices('GPU'))\n"
   ]
  },
  {
   "cell_type": "code",
   "execution_count": null,
   "id": "88607f25-d035-4ce1-a4f7-a5350aebf3c2",
   "metadata": {
    "trusted": true
   },
   "outputs": [],
   "source": [
    "trainDir = '/kaggle/input/asl-alphabet/asl_alphabet_train/asl_alphabet_train'\n",
    "testDir  = '/kaggle/input/asl-alphabet/asl_alphabet_test/asl_alphabet_test'\n",
    "\n",
    "# Vérifie le dossier\n",
    "assert os.path.isdir(trainDir), f\"trainDir introuvable: {trainDir}\"\n",
    "\n",
    "# Récupère et trie les classes (un dossier = une classe)\n",
    "classes = sorted([d for d in os.listdir(trainDir) if os.path.isdir(os.path.join(trainDir, d))])\n",
    "num_classes = len(classes)\n",
    "print(\"Nombre de classes détectées :\", num_classes)\n",
    "print(classes)\n"
   ]
  },
  {
   "cell_type": "code",
   "execution_count": null,
   "id": "ea881f9f-d0e5-4e7d-9cb2-1723bbf0d49a",
   "metadata": {
    "trusted": true
   },
   "outputs": [],
   "source": [
    "IMG_SIZE = (224, 224)\n",
    "BATCH_SIZE = 32   # si OOM, baisser à 16 ou 8\n",
    "SEED = 42\n",
    "\n",
    "datagen = ImageDataGenerator(\n",
    "    preprocessing_function=preprocess_input,\n",
    "    validation_split=0.2\n",
    ")\n",
    "\n",
    "train_gen = datagen.flow_from_directory(\n",
    "    trainDir,\n",
    "    target_size=IMG_SIZE,\n",
    "    color_mode='rgb',            # important : RGB pour VGG16\n",
    "    batch_size=BATCH_SIZE,\n",
    "    class_mode='categorical',\n",
    "    subset='training',\n",
    "    shuffle=True,\n",
    "    seed=SEED\n",
    ")\n",
    "\n",
    "val_gen = datagen.flow_from_directory(\n",
    "    trainDir,\n",
    "    target_size=IMG_SIZE,\n",
    "    color_mode='rgb',\n",
    "    batch_size=BATCH_SIZE,\n",
    "    class_mode='categorical',\n",
    "    subset='validation',\n",
    "    shuffle=False,\n",
    "    seed=SEED\n",
    ")\n",
    "\n",
    "print(\"Mapping classes -> indices :\", train_gen.class_indices)\n"
   ]
  },
  {
   "cell_type": "code",
   "execution_count": null,
   "id": "10e43e17-d933-41f0-816b-abbcb3cac5fa",
   "metadata": {
    "trusted": true
   },
   "outputs": [],
   "source": [
    "base_model = VGG16(weights='imagenet', include_top=False, input_shape=(224,224,3))\n",
    "\n",
    "# Geler toutes les couches pour commencer (feature extractor)\n",
    "for layer in base_model.layers:\n",
    "    layer.trainable = False\n",
    "\n",
    "print(\"Nombre de couches VGG16 :\", len(base_model.layers))\n",
    "base_model.summary()\n"
   ]
  },
  {
   "cell_type": "code",
   "execution_count": null,
   "id": "0dd2dafe-3bad-400b-8fa0-97f88448c2ec",
   "metadata": {
    "trusted": true
   },
   "outputs": [],
   "source": [
    "model = Sequential([\n",
    "    base_model,\n",
    "    GlobalAveragePooling2D(),\n",
    "    Dense(256, activation='relu'),\n",
    "    Dropout(0.3),\n",
    "    Dense(128, activation='relu'),\n",
    "    Dropout(0.2),\n",
    "    Dense(num_classes, activation='softmax')\n",
    "])\n",
    "\n",
    "model.compile(optimizer=Adam(learning_rate=1e-4),\n",
    "              loss='categorical_crossentropy',\n",
    "              metrics=['accuracy'])\n",
    "\n",
    "model.summary()\n"
   ]
  },
  {
   "cell_type": "code",
   "execution_count": null,
   "id": "dc76eaa3-a825-480f-993c-6441f09fee7c",
   "metadata": {
    "trusted": true
   },
   "outputs": [],
   "source": [
    "callbacks = [\n",
    "    EarlyStopping(monitor='val_accuracy', patience=5, restore_best_weights=True),\n",
    "    ReduceLROnPlateau(monitor='val_loss', patience=3, factor=0.2, verbose=1),\n",
    "    ModelCheckpoint(\"vgg16_transfer_asl_best.keras\", monitor='val_accuracy', save_best_only=True, verbose=1)\n",
    "]"
   ]
  },
  {
   "cell_type": "code",
   "execution_count": null,
   "id": "78af4f55-35f3-417c-8cd1-d978039b2d3d",
   "metadata": {
    "trusted": true
   },
   "outputs": [],
   "source": [
    "EPOCHS = 10   # ou 8-12 selon le temps\n",
    "\n",
    "history = model.fit(\n",
    "    train_gen,\n",
    "    validation_data=val_gen,\n",
    "    epochs=EPOCHS,\n",
    "    callbacks=callbacks\n",
    ")\n"
   ]
  },
  {
   "cell_type": "code",
   "execution_count": null,
   "id": "363f4d6e",
   "metadata": {},
   "outputs": [],
   "source": [
    "# Save the final VGG16 transfer learning model\n",
    "model.save('vgg16_transfer_asl_final.keras')\n",
    "print(\"VGG16 transfer learning model saved as 'vgg16_transfer_asl_final.keras'\")\n",
    "\n",
    "# Also save in .h5 format for compatibility\n",
    "model.save('vgg16_transfer_asl_final.h5')\n",
    "print(\"VGG16 transfer learning model also saved as 'vgg16_transfer_asl_final.h5'\")\n",
    "\n",
    "# Save the label mapping for VGG16 model (from ImageDataGenerator)\n",
    "import json\n",
    "vgg16_label_mapping = {v: k for k, v in train_gen.class_indices.items()}  # reverse mapping (index -> class name)\n",
    "with open('vgg16_transfer_labels.json', 'w') as f:\n",
    "    json.dump(vgg16_label_mapping, f)\n",
    "print(\"VGG16 label mapping saved as 'vgg16_transfer_labels.json'\")\n",
    "\n",
    "# Print training history summary\n",
    "print(f\"\\nTraining completed!\")\n",
    "print(f\"Best validation accuracy: {max(history.history['val_accuracy']):.4f}\")\n",
    "print(f\"Final training accuracy: {history.history['accuracy'][-1]:.4f}\")\n",
    "print(f\"Final validation accuracy: {history.history['val_accuracy'][-1]:.4f}\")"
   ]
  },
  {
   "cell_type": "code",
   "execution_count": null,
   "id": "b40dc892",
   "metadata": {},
   "outputs": [],
   "source": [
    "# Model Summary and Saved Files\n",
    "print(\"=\"*60)\n",
    "print(\"MODEL TRAINING COMPLETED - SUMMARY\")\n",
    "print(\"=\"*60)\n",
    "print(\"\\n SAVED MODEL FILES:\")\n",
    "print(\"1. Custom CNN Model:\")\n",
    "print(\"   - custom_cnn_asl_model.keras\")\n",
    "print(\"   - custom_cnn_asl_model.h5\")\n",
    "print(\"   - custom_cnn_labels.json\")\n",
    "print(\"\\n2. VGG16 Transfer Learning Model:\")\n",
    "print(\"   - vgg16_transfer_asl_final.keras (final model)\")\n",
    "print(\"   - vgg16_transfer_asl_final.h5 (final model)\")\n",
    "print(\"   - vgg16_transfer_asl_best.keras (best checkpoint)\")\n",
    "print(\"   - vgg16_transfer_labels.json\")\n",
    "print(\"\\n MODEL SPECIFICATIONS:\")\n",
    "print(\"1. Custom CNN:\")\n",
    "print(\"   - Input: 60x60 grayscale images\")\n",
    "print(\"   - Architecture: Custom 3-layer CNN\")\n",
    "print(\"   - Classes: 29 ASL alphabet signs\")\n",
    "print(\"\\n2. VGG16 Transfer Learning:\")\n",
    "print(\"   - Input: 224x224 RGB images\")\n",
    "print(\"   - Architecture: VGG16 + custom classification head\")\n",
    "print(\"   - Classes: 29 ASL alphabet signs\")\n",
    "print(\"\\n USAGE RECOMMENDATION:\")\n",
    "print(\"- Use VGG16 model for better accuracy (transfer learning)\")\n",
    "print(\"- Use Custom CNN for faster inference (smaller model)\")\n",
    "print(\"- Both models ready for frontend integration!\")\n",
    "print(\"=\"*60)"
   ]
  }
 ],
 "metadata": {
  "accelerator": "GPU",
  "colab": {
   "authorship_tag": "ABX9TyM+k8tcI1pCoVoOUYQwaeg+",
   "gpuType": "T4",
   "provenance": []
  },
  "kaggle": {
   "accelerator": "gpu",
   "dataSources": [
    {
     "datasetId": 8195064,
     "sourceId": 12949597,
     "sourceType": "datasetVersion"
    },
    {
     "datasetId": 23079,
     "sourceId": 29550,
     "sourceType": "datasetVersion"
    }
   ],
   "dockerImageVersionId": 31090,
   "isGpuEnabled": true,
   "isInternetEnabled": true,
   "language": "python",
   "sourceType": "notebook"
  },
  "kernelspec": {
   "display_name": "Python 3",
   "language": "python",
   "name": "python3"
  },
  "language_info": {
   "codemirror_mode": {
    "name": "ipython",
    "version": 3
   },
   "file_extension": ".py",
   "mimetype": "text/x-python",
   "name": "python",
   "nbconvert_exporter": "python",
   "pygments_lexer": "ipython3",
   "version": "3.11.13"
  },
  "papermill": {
   "default_parameters": {},
   "duration": 870.644202,
   "end_time": "2025-05-09T21:26:33.798243",
   "environment_variables": {},
   "exception": null,
   "input_path": "__notebook__.ipynb",
   "output_path": "__notebook__.ipynb",
   "parameters": {},
   "start_time": "2025-05-09T21:12:03.154041",
   "version": "2.6.0"
  }
 },
 "nbformat": 4,
 "nbformat_minor": 5
}
